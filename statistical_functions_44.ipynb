{
  "cells": [
    {
      "cell_type": "markdown",
      "source": [
        " **STATISTICAL FUNCTIONS IN PYTHON**\n",
        " # Introduction to Statistical Analysis: Basics of statistics and its importance in data analysis.\n",
        " * Python Libraries: Overview of essential Python libraries like NumPy, Pandas, SciPy, and Statsmodels.\n",
        " * Descriptive Statistics: Techniques for summarizing and describing data.\n",
        " * Inferential Statistics: Methods for making inferences about populations from samples.\n",
        " * Hypothesis Testing: Procedures for testing assumptions and drawing conclusions.\n",
        " * Regression Analysis: Exploring relationships between variables using linear and logistic regression.\n",
        " * Practical Examples: Real-world datasets are used to illustrate the application of these techniques."
      ],
      "metadata": {
        "id": "SbuIO3swUrYI"
      },
      "id": "SbuIO3swUrYI"
    },
    {
      "cell_type": "code",
      "execution_count": null,
      "id": "38ddedff",
      "metadata": {
        "id": "38ddedff",
        "outputId": "a16012b2-3be1-480f-88a0-59e99b0f629e"
      },
      "outputs": [
        {
          "name": "stdout",
          "output_type": "stream",
          "text": [
            "        City  Year  R&D Expenditure (% of GDP)  \\\n",
            "0  Ahmedabad  2019                        1.06   \n",
            "1  Ahmedabad  2020                        1.93   \n",
            "2  Ahmedabad  2021                        1.60   \n",
            "3  Ahmedabad  2022                        1.40   \n",
            "4  Ahmedabad  2023                        0.73   \n",
            "\n",
            "   Patents per 100,000 Inhabitants  Unemployment Rate (%)  \\\n",
            "0                              3.4                    5.6   \n",
            "1                              2.1                    6.6   \n",
            "2                              6.6                    5.8   \n",
            "3                              6.3                    6.2   \n",
            "4                              2.9                    7.8   \n",
            "\n",
            "   Youth Unemployment Rate (%)  SME Employment (%)  \\\n",
            "0                         11.8                38.5   \n",
            "1                         10.4                19.5   \n",
            "2                          8.9                16.7   \n",
            "3                         10.7                33.5   \n",
            "4                         10.5                29.4   \n",
            "\n",
            "   Tourism Sector Employment (%)  ICT Sector Employment (%)  \n",
            "0                            5.2                       20.7  \n",
            "1                            4.2                        6.8  \n",
            "2                            5.1                       13.4  \n",
            "3                            7.5                       22.6  \n",
            "4                            6.5                       23.9  \n"
          ]
        }
      ],
      "source": [
        "#importing data set (economy_productivuty data set)\n",
        "import pandas as pd\n",
        "import csv\n",
        "\n",
        "df = pd.read_csv(\"C:/Users/anits-csm/Downloads/Economy_Productivity_SD_India.csv\")\n",
        "data = pd.DataFrame(df)\n",
        "print(data.head())\n"
      ]
    },
    {
      "cell_type": "markdown",
      "source": [],
      "metadata": {
        "id": "Ij7PTj7cUkzF"
      },
      "id": "Ij7PTj7cUkzF"
    },
    {
      "cell_type": "code",
      "execution_count": null,
      "id": "20d9a0ab",
      "metadata": {
        "id": "20d9a0ab",
        "outputId": "98859f52-e4e5-49f2-93d1-21b675b11485"
      },
      "outputs": [
        {
          "name": "stdout",
          "output_type": "stream",
          "text": [
            "\n",
            "Range:\n",
            " 3.9000000000000004\n",
            "\n",
            "Skewness:\n",
            " 0.2785690449140868\n",
            "\n",
            "Kurtosis:\n",
            " -1.056781219148455\n"
          ]
        }
      ],
      "source": [
        "print(\"\\nRange:\\n\", data['Youth Unemployment Rate (%)'].max() - data['Youth Unemployment Rate (%)'].min())\n",
        "print(\"\\nSkewness:\\n\", data['Youth Unemployment Rate (%)'].skew())\n",
        "print(\"\\nKurtosis:\\n\", data['Youth Unemployment Rate (%)'].kurt())"
      ]
    },
    {
      "cell_type": "code",
      "execution_count": 1,
      "id": "845aeafe",
      "metadata": {
        "colab": {
          "base_uri": "https://localhost:8080/",
          "height": 176
        },
        "id": "845aeafe",
        "outputId": "7a48c14c-899b-4ad2-9fa2-2c394c42267f"
      },
      "outputs": [
        {
          "output_type": "error",
          "ename": "NameError",
          "evalue": "name 'data' is not defined",
          "traceback": [
            "\u001b[0;31m---------------------------------------------------------------------------\u001b[0m",
            "\u001b[0;31mNameError\u001b[0m                                 Traceback (most recent call last)",
            "\u001b[0;32m<ipython-input-1-1d1198c4c54d>\u001b[0m in \u001b[0;36m<cell line: 1>\u001b[0;34m()\u001b[0m\n\u001b[0;32m----> 1\u001b[0;31m \u001b[0mdata\u001b[0m\u001b[0;34m.\u001b[0m\u001b[0mdescribe\u001b[0m\u001b[0;34m(\u001b[0m\u001b[0;34m)\u001b[0m\u001b[0;34m\u001b[0m\u001b[0;34m\u001b[0m\u001b[0m\n\u001b[0m\u001b[1;32m      2\u001b[0m \u001b[0;34m\u001b[0m\u001b[0m\n\u001b[1;32m      3\u001b[0m \u001b[0;34m\u001b[0m\u001b[0m\n",
            "\u001b[0;31mNameError\u001b[0m: name 'data' is not defined"
          ]
        }
      ],
      "source": [
        "#descriptive statistics\n",
        "data.describe()\n",
        "\n",
        "\n"
      ]
    },
    {
      "cell_type": "code",
      "execution_count": null,
      "id": "a4ff9bae",
      "metadata": {
        "id": "a4ff9bae",
        "outputId": "5389798d-16e1-4eeb-c3b9-950cc8c66cbe"
      },
      "outputs": [
        {
          "name": "stdout",
          "output_type": "stream",
          "text": [
            "<bound method NDFrame._add_numeric_operations.<locals>.mean of 0      11.8\n",
            "1      10.4\n",
            "2       8.9\n",
            "3      10.7\n",
            "4      10.5\n",
            "       ... \n",
            "175    11.7\n",
            "176    11.3\n",
            "177    11.9\n",
            "178     8.5\n",
            "179    10.9\n",
            "Name: Youth Unemployment Rate (%), Length: 180, dtype: float64>\n"
          ]
        }
      ],
      "source": [
        "#average youth unemployement rate\n",
        "mean_data = data['Youth Unemployment Rate (%)'].mean\n",
        "print(mean_data)"
      ]
    },
    {
      "cell_type": "markdown",
      "id": "3d3834a2",
      "metadata": {
        "id": "3d3834a2"
      },
      "source": [
        "skewness = data.skew(axis = 'Youth Unemployment Rate (%)')\n",
        "print(skewness)"
      ]
    },
    {
      "cell_type": "code",
      "execution_count": null,
      "id": "e3d14ac4",
      "metadata": {
        "id": "e3d14ac4",
        "outputId": "5979d2a2-1905-4375-d86f-355edceddba5"
      },
      "outputs": [
        {
          "name": "stdout",
          "output_type": "stream",
          "text": [
            "T-Statistic: 65.02786305343287\n",
            "P-Value: 1.8107449772586244e-126\n"
          ]
        }
      ],
      "source": [
        "#inferrential statistics\n",
        "unemployement_rate = data['Unemployment Rate (%)']\n",
        "population_mean = 0.05\n",
        "t_stat, p_value = stats.ttest_1samp(unemployement_rate, population_mean)\n",
        "print(f\"T-Statistic: {t_stat}\")\n",
        "print(f\"P-Value: {p_value}\")\n"
      ]
    },
    {
      "cell_type": "code",
      "execution_count": null,
      "id": "aafdab03",
      "metadata": {
        "id": "aafdab03",
        "outputId": "522e5fd1-40c2-4dd3-e27f-7eddcd2c4e29"
      },
      "outputs": [
        {
          "name": "stdout",
          "output_type": "stream",
          "text": [
            "95% Confidence Interval for BMI: (5.975842326916083, 6.344157673083914)\n"
          ]
        }
      ],
      "source": [
        "import numpy as np\n",
        "from scipy import stats\n",
        "sample_mean = np.mean(unemployement_rate )\n",
        "standard_error = stats.sem(unemployement_rate )\n",
        "\n",
        "# Compute 95% confidence interval for BMI\n",
        "confidence_interval = stats.norm.interval(0.95, loc=sample_mean, scale=standard_error)\n",
        "\n",
        "print(f\"95% Confidence Interval for BMI: {confidence_interval}\")"
      ]
    },
    {
      "cell_type": "code",
      "execution_count": null,
      "id": "7f1455b7",
      "metadata": {
        "id": "7f1455b7",
        "outputId": "4e93863a-a125-4030-c792-5882c51e88f2"
      },
      "outputs": [
        {
          "name": "stdout",
          "output_type": "stream",
          "text": [
            "                                 OLS Regression Results                                \n",
            "=======================================================================================\n",
            "Dep. Variable:     Youth Unemployment Rate (%)   R-squared:                       1.000\n",
            "Model:                                     OLS   Adj. R-squared:                  1.000\n",
            "Method:                          Least Squares   F-statistic:                 3.192e+30\n",
            "Date:                         Tue, 03 Sep 2024   Prob (F-statistic):               0.00\n",
            "Time:                                 11:36:07   Log-Likelihood:                 5582.0\n",
            "No. Observations:                          180   AIC:                        -1.116e+04\n",
            "Df Residuals:                              178   BIC:                        -1.115e+04\n",
            "Df Model:                                    1                                         \n",
            "Covariance Type:                     nonrobust                                         \n",
            "===============================================================================================\n",
            "                                  coef    std err          t      P>|t|      [0.025      0.975]\n",
            "-----------------------------------------------------------------------------------------------\n",
            "const                       -1.776e-15   5.53e-15     -0.321      0.748   -1.27e-14    9.13e-15\n",
            "Youth Unemployment Rate (%)     1.0000    5.6e-16   1.79e+15      0.000       1.000       1.000\n",
            "==============================================================================\n",
            "Omnibus:                     2747.257   Durbin-Watson:                   0.019\n",
            "Prob(Omnibus):                  0.000   Jarque-Bera (JB):               21.235\n",
            "Skew:                          -0.321   Prob(JB):                     2.45e-05\n",
            "Kurtosis:                       1.445   Cond. No.                         89.3\n",
            "==============================================================================\n",
            "\n",
            "Notes:\n",
            "[1] Standard Errors assume that the covariance matrix of the errors is correctly specified.\n"
          ]
        }
      ],
      "source": [
        "import statsmodels.api as sm\n",
        "\n",
        "# Define independent variable (add constant for intercept)\n",
        "X = sm.add_constant(data['Youth Unemployment Rate (%)'])\n",
        "\n",
        "# Define dependent variable\n",
        "y = data['Youth Unemployment Rate (%)']\n",
        "\n",
        "# Fit linear regression model\n",
        "model = sm.OLS(y, X).fit()\n",
        "\n",
        "# Print model summary\n",
        "print(model.summary())"
      ]
    },
    {
      "cell_type": "markdown",
      "source": [
        "**CONCLUSION**\n",
        " * By  applying these statistical techniques using Python and libraries like pandas, numpy, scipy, and statsmodels, you can perform robust analyses on real-world datasets. The exercises provided in this article encourage you to explore datasets from sources like Kaggle and the UCI Machine Learning Repository, further enhancing your understanding and application of statistical methods."
      ],
      "metadata": {
        "id": "w5_Xy210W6ty"
      },
      "id": "w5_Xy210W6ty"
    },
    {
      "cell_type": "code",
      "source": [],
      "metadata": {
        "id": "R2yeQU2gXMSp"
      },
      "id": "R2yeQU2gXMSp",
      "execution_count": null,
      "outputs": []
    }
  ],
  "metadata": {
    "kernelspec": {
      "display_name": "Python 3 (ipykernel)",
      "language": "python",
      "name": "python3"
    },
    "language_info": {
      "codemirror_mode": {
        "name": "ipython",
        "version": 3
      },
      "file_extension": ".py",
      "mimetype": "text/x-python",
      "name": "python",
      "nbconvert_exporter": "python",
      "pygments_lexer": "ipython3",
      "version": "3.11.5"
    },
    "colab": {
      "provenance": []
    }
  },
  "nbformat": 4,
  "nbformat_minor": 5
}